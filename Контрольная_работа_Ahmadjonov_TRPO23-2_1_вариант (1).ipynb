{
 "cells": [
  {
   "cell_type": "markdown",
   "metadata": {},
   "source": [
    "### Контрольная работа № 1.\n",
    "### Вариант 1.\n",
    "#### Студент Aхмаджонов Мухаммадбобур   группа ТРПО 23-2"
   ]
  },
  {
   "cell_type": "markdown",
   "metadata": {},
   "source": [
    "1. Создайте класс Length (Длина), имеющий свойства\n",
    "\n",
    "• value (значение),\n",
    "\n",
    "• unit (единица измерения).\n",
    "\n",
    "При изменении единицы измерения значение должно соответственно меняться. Например, при переходе от сантиметров к метрам значение должно уменьшаться в 100 раз. Допустимые значения свойства unit: ‘см’, ‘м’, ‘км’. Организуйте эту проверку. Продемонстрируйте работу с классом."
   ]
  },
  {
   "cell_type": "code",
   "execution_count": 3,
   "metadata": {},
   "outputs": [
    {
     "name": "stdout",
     "output_type": "stream",
     "text": [
      "200 см\n",
      "2.0 м\n",
      "0.002 км\n",
      "2 км\n",
      "2000 м\n"
     ]
    }
   ],
   "source": [
    "# Решение 1.\n",
    "class Length:\n",
    "    def __init__(self, value, unit):\n",
    "        self.value = value\n",
    "        self.unit = unit\n",
    "\n",
    "    def convert_to_meters(self):\n",
    "        if self.unit == 'см':\n",
    "            self.value /= 100\n",
    "            self.unit = 'м'\n",
    "        elif self.unit == 'км':\n",
    "            self.value *= 1000\n",
    "            self.unit = 'м'\n",
    "\n",
    "    def convert_to_centimeters(self):\n",
    "        if self.unit == 'м':\n",
    "            self.value *= 100\n",
    "            self.unit = 'см'\n",
    "        elif self.unit == 'км':\n",
    "            self.value *= 100000\n",
    "            self.unit = 'см'\n",
    "\n",
    "    def convert_to_kilometers(self):\n",
    "        if self.unit == 'м':\n",
    "            self.value /= 1000\n",
    "            self.unit = 'км'\n",
    "        elif self.unit == 'см':\n",
    "            self.value /= 100000\n",
    "            self.unit = 'км'\n",
    "\n",
    "    def __str__(self):\n",
    "        return f\"{self.value} {self.unit}\"\n",
    "\n",
    "\n",
    "length1 = Length(200, 'см')\n",
    "print(length1)  # Вывод: 100 см\n",
    "\n",
    "length1.convert_to_meters()\n",
    "print(length1)  # Вывод: 1.0 м\n",
    "\n",
    "length1.convert_to_kilometers()\n",
    "print(length1)  # Вывод: 0.001 км\n",
    "\n",
    "length2 = Length(2, 'км')\n",
    "print(length2)  # Вывод: 2 км\n",
    "\n",
    "length2.convert_to_meters()\n",
    "print(length2)  # Вывод: 2000 м\n",
    "\n"
   ]
  },
  {
   "cell_type": "markdown",
   "metadata": {},
   "source": [
    "2. Создайте класс Ведомость, имеющий\n",
    "атрибут класса:\n",
    "\n",
    "• список_дисциплин (значением является список с названиями дисциплин);\n",
    "\n",
    "свойства:\n",
    "\n",
    "• дисциплина (при задании значения проверять наличие дисциплины в атрибуте список_дисциплин),\n",
    "\n",
    "• группа;\n",
    "\n",
    "методы:\n",
    "\n",
    "• put – добавляет в ведомость информацию об оценке студента (фамилия, оценка – параметры метода). Для хранения данных внутри класса используйте словарь, в котором ключом является фамилия студента. Возможные оценки – «отлично», «хорошо», «удовл.», «неудовл.», «н/я»;\n",
    "\n",
    "• get – возвращает оценку, полученную студентом (фамилия студента – параметр метода);\n",
    "\n",
    "• change – изменяет оценку, полученную студентом (фамилия студента и новая оценка – параметры метода);\n",
    "\n",
    "• del – удаляет информацию о студенте из ведомости (фамилия студента – параметр метода);\n",
    "\n",
    "• result – возвращает кортеж из 5 чисел (количество каждого вида оценок в ведомости);\n",
    "\n",
    "• __init__ – конструктор;\n",
    "\n",
    "• __str__ – возвращает строку, содержащую заголовки (название экзамена, группа) и результаты экзамена в виде таблицы;\n",
    "\n",
    "• count – возвращает количество студентов в ведомости;\n",
    "\n",
    "• names – возвращает список фамилий, имеющихся в ведомости.\n",
    "\n",
    "Продемонстрируйте работу с классом. \n"
   ]
  },
  {
   "cell_type": "code",
   "execution_count": 49,
   "metadata": {},
   "outputs": [
    {
     "name": "stdout",
     "output_type": "stream",
     "text": [
      "Дисциплина: Математика Группа: Группа А Иванов: отлично Петров: хорошо Сидоров: удовл. Кузнецов: неудовл.\n",
      "Количество студентов в ведомости: 4\n",
      "Студенты в ведомости: ['Иванов', 'Петров', 'Сидоров', 'Кузнецов']\n",
      "Результаты ведомости: (1, 1, 1, 1, 0)\n",
      "nПосле изменений:\n",
      "Дисциплина: Математика Группа: Группа А Иванов: отлично Петров: удовл. Кузнецов: неудовл.\n"
     ]
    }
   ],
   "source": [
    "class Ведомость:\n",
    "    список_дисциплин = [\"Математика\", \"Физика\", \"Информатика\"]\n",
    "\n",
    "    def __init__(self, дисциплина, группа):\n",
    "        if дисциплина not in self.список_дисциплин:\n",
    "            raise ValueError(\"Дисциплина не найдена в списке\")\n",
    "        self.дисциплина = дисциплина\n",
    "        self.группа = группа\n",
    "        self.студенты = {}\n",
    "\n",
    "    def put(self, фамилия, оценка):\n",
    "        возможные_оценки = [\"отлично\", \"хорошо\", \"удовл.\", \"неудовл.\", \"н/я\"]\n",
    "        if оценка not in возможные_оценки:\n",
    "            raise ValueError(\"Некорректная оценка\")\n",
    "        self.студенты[фамилия] = оценка\n",
    "\n",
    "    def get(self, фамилия):\n",
    "        return self.студенты.get(фамилия)\n",
    "\n",
    "    def change(self, фамилия, новая_оценка):\n",
    "        if фамилия in self.студенты:\n",
    "            self.студенты[фамилия] = новая_оценка\n",
    "        else:\n",
    "            raise ValueError(\"Студент не найден\")\n",
    "\n",
    "    def del_student(self, фамилия):\n",
    "        if фамилия in self.студенты:\n",
    "            del self.студенты[фамилия]\n",
    "        else:\n",
    "            raise ValueError(\"Студент не найден\")\n",
    "\n",
    "    def result(self):\n",
    "        количество_оценок = [list(self.студенты.values()).count(оценка) for оценка in [\"отлично\", \"хорошо\", \"удовл.\", \"неудовл.\", \"н/я\"]]\n",
    "        return tuple(количество_оценок)\n",
    "\n",
    "    def __str__(self):\n",
    "        результаты = \" \".join([f\"{фамилия}: {оценка}\" for фамилия, оценка in self.студенты.items()])\n",
    "        return f\"Дисциплина: {self.дисциплина} Группа: {self.группа} {результаты}\"\n",
    "\n",
    "    def count(self):\n",
    "        return len(self.студенты)\n",
    "\n",
    "    def names(self):\n",
    "        return list(self.студенты.keys())\n",
    "\n",
    "\n",
    "\n",
    "ведомость = Ведомость(\"Математика\", \"Группа А\")\n",
    "\n",
    "ведомость.put(\"Иванов\", \"отлично\")\n",
    "ведомость.put(\"Петров\", \"хорошо\")\n",
    "ведомость.put(\"Сидоров\", \"удовл.\")\n",
    "ведомость.put(\"Кузнецов\", \"неудовл.\")\n",
    "\n",
    "print(ведомость)\n",
    "print(f\"Количество студентов в ведомости: {ведомость.count()}\")\n",
    "print(f\"Студенты в ведомости: {ведомость.names()}\")\n",
    "print(f\"Результаты ведомости: {ведомость.result()}\")\n",
    "\n",
    "ведомость.change(\"Петров\", \"удовл.\")\n",
    "ведомость.del_student(\"Сидоров\")\n",
    "\n",
    "print(\"nПосле изменений:\")\n",
    "print(ведомость)"
   ]
  },
  {
   "cell_type": "markdown",
   "metadata": {},
   "source": [
    "3. Создайте класс Заказ(Order), у которого есть свойства код_товара(code), цена(price), количество(count) и методы __init__ и __str__.\n",
    "\n",
    "Создайте 2 класса-потомка: Опт(Opt) и Розница(Retail).\n",
    "В этих классах создайте методы __init__, __str__.и сумма_заказа(summa), позволяющий узнать стоимость заказа.\n",
    "Для опта стоимость единицы товара составляет 95% от цены, а при покупке более 500 штук – 90% цены.\n",
    "В розницу стоимость единицы товара составляет 100% цены. Стоимость заказа равна произведению цены на количество. \n",
    "\n",
    "Продемонстрируйте работу с классами, создав необходимые объекты и обратившись к их свойствам и методам\n"
   ]
  },
  {
   "cell_type": "code",
   "execution_count": 50,
   "metadata": {},
   "outputs": [
    {
     "name": "stdout",
     "output_type": "stream",
     "text": [
      "Оптовый заказ - Код товара: 001, Цена: 100, Количество: 600\n",
      "Сумма оптового заказа: 54000.0\n",
      "Розничный заказ - Код товара: 002, Цена: 50, Количество: 10\n",
      "Сумма розничного заказа: 500\n"
     ]
    }
   ],
   "source": [
    "# Решение 3.\n",
    "class Order:\n",
    "    def __init__(self, code, price, count):\n",
    "        self.code = code\n",
    "        self.price = price\n",
    "        self.count = count\n",
    "\n",
    "    def __str__(self):\n",
    "        return f\"Код товара: {self.code}, Цена: {self.price}, Количество: {self.count}\"\n",
    "\n",
    "class Opt(Order):\n",
    "    def __init__(self, code, price, count):\n",
    "        super().__init__(code, price, count)\n",
    "\n",
    "    def __str__(self):\n",
    "        return f\"Оптовый заказ - {super().__str__()}\"\n",
    "\n",
    "    def summa(self):\n",
    "        if self.count > 500:\n",
    "            return self.price * self.count * 0.9\n",
    "        else:\n",
    "            return self.price * self.count * 0.95\n",
    "\n",
    "class Retail(Order):\n",
    "    def __init__(self, code, price, count):\n",
    "        super().__init__(code, price, count)\n",
    "\n",
    "    def __str__(self):\n",
    "        return f\"Розничный заказ - {super().__str__()}\"\n",
    "\n",
    "    def summa(self):\n",
    "        return self.price * self.count\n",
    "\n",
    "opt_order = Opt('001', 100, 600)\n",
    "retail_order = Retail('002', 50, 10)\n",
    "\n",
    "print(opt_order)\n",
    "print(f\"Сумма оптового заказа: {opt_order.summa()}\")\n",
    "\n",
    "print(retail_order)\n",
    "print(f\"Сумма розничного заказа: {retail_order.summa()}\")\n",
    "\n",
    "    \n"
   ]
  },
  {
   "cell_type": "markdown",
   "metadata": {},
   "source": [
    "4. Написать функцию my_func_1(lst), которая переворачивает список вложенных списков с произвольным уровнем вложенности.\n",
    "Любой элемент, не являющийся списком, не должен быть изменен.\n",
    "\n",
    "Примеры, демонстрирующие ожидаемое поведение функции:\n",
    "\n",
    "assert my_func_1(42) == 42\n",
    "\n",
    "assert my_func_1([]) == []\n",
    "\n",
    "assert my_func_1([1, 2]) == [2, 1]\n",
    "\n",
    "assert my_func_1((1, 2)) == (1, 2)\n",
    "\n",
    "assert my_func_1([[1, 2], [3, [4, 5]], 6]) == [6, [[5, 4], 3], [2, 1]]\n",
    "\n",
    "assert my_func_1(['123', '456', '789', {10: [11, 12], 13: 14}, (15, 16)]) == [(15, 16), {10: [11, 12], 13: 14}, '789', '456', '123']\n",
    "\n",
    "assert my_func_1([[[[[1, 2]]]]]) == [[[[[2, 1]]]]]"
   ]
  },
  {
   "cell_type": "code",
   "execution_count": 51,
   "metadata": {},
   "outputs": [],
   "source": [
    "def my_func_1(lst):\n",
    "    if not isinstance(lst, list):\n",
    "        return lst\n",
    "    \n",
    "    reversed_list = []\n",
    "    for item in lst:\n",
    "        reversed_list.insert(0, my_func_1(item))\n",
    "    \n",
    "    return reversed_list\n",
    "\n",
    "assert my_func_1(42) == 42\n",
    "assert my_func_1([]) == []\n",
    "assert my_func_1([1, 2]) == [2, 1]\n",
    "assert my_func_1((1, 2)) == (1, 2)\n",
    "assert my_func_1([[1, 2], [3, [4, 5]], 6]) == [6, [[5, 4], 3], [2, 1]]\n",
    "assert my_func_1(['123', '456', '789', {10: [11, 12], 13: 14}, (15, 16)]) == [(15, 16), {10: [11, 12], 13: 14}, '789', '456', '123']\n",
    "assert my_func_1([[[[[1, 2]]]]]) == [[[[[2, 1]]]]]\n"
   ]
  },
  {
   "cell_type": "markdown",
   "metadata": {},
   "source": [
    "5.При помощи механизма map/filter/reduce возвести в квадрат числа от 1 до 100, и рассчитать их сумму, не включая в сумму числа, кратные 9. Написать реализацию в одну строку."
   ]
  },
  {
   "cell_type": "code",
   "execution_count": 52,
   "metadata": {},
   "outputs": [
    {
     "data": {
      "text/plain": [
       "225589"
      ]
     },
     "execution_count": 52,
     "metadata": {},
     "output_type": "execute_result"
    }
   ],
   "source": [
    "reduce(lambda x, y: x + y, filter(lambda x: x % 9 != 0, map(lambda x: x**2, range(1, 101))))\n"
   ]
  },
  {
   "cell_type": "code",
   "execution_count": null,
   "metadata": {},
   "outputs": [],
   "source": []
  }
 ],
 "metadata": {
  "kernelspec": {
   "display_name": "Python 3 (ipykernel)",
   "language": "python",
   "name": "python3"
  },
  "language_info": {
   "codemirror_mode": {
    "name": "ipython",
    "version": 3
   },
   "file_extension": ".py",
   "mimetype": "text/x-python",
   "name": "python",
   "nbconvert_exporter": "python",
   "pygments_lexer": "ipython3",
   "version": "3.10.9"
  }
 },
 "nbformat": 4,
 "nbformat_minor": 4
}
